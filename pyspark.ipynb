{
  "nbformat": 4,
  "nbformat_minor": 0,
  "metadata": {
    "colab": {
      "provenance": [],
      "authorship_tag": "ABX9TyOCIDQSrRQ1ZnByZue/KV2d"
    },
    "kernelspec": {
      "name": "python3",
      "display_name": "Python 3"
    },
    "language_info": {
      "name": "python"
    }
  },
  "cells": [
    {
      "cell_type": "code",
      "execution_count": 1,
      "metadata": {
        "colab": {
          "base_uri": "https://localhost:8080/"
        },
        "id": "5sHmGuNalKTy",
        "outputId": "15b66ee1-4981-4d9d-cec5-3c12e1d38d97"
      },
      "outputs": [
        {
          "output_type": "stream",
          "name": "stdout",
          "text": [
            "Requirement already satisfied: pyspark in /usr/local/lib/python3.11/dist-packages (3.5.1)\n",
            "Requirement already satisfied: py4j==0.10.9.7 in /usr/local/lib/python3.11/dist-packages (from pyspark) (0.10.9.7)\n"
          ]
        }
      ],
      "source": [
        "pip install pyspark"
      ]
    },
    {
      "cell_type": "markdown",
      "source": [
        "Pyspark Question : Write a PySpark script to implement a custom transformation that categorizes products based on their price. Add a new column price_category to the DataFrame with the following conditions:\n",
        "\n",
        "\"Low\" for price < 100\n",
        "\n",
        "\"Medium\" for 100 <= price < 500\n",
        "\n",
        "\"High\" for price >= 500\n",
        "\n",
        "schema and dataset\n",
        "\n",
        "data = [(\"Laptop\", 800), (\"Mouse\", 25), (\"Keyboard\", 150), (\"Monitor\", 300)] columns = [\"product\", \"price\"]"
      ],
      "metadata": {
        "id": "t1PWDjiLu_Hw"
      }
    },
    {
      "cell_type": "code",
      "source": [
        "from pyspark.sql import SparkSession\n",
        "from pyspark.sql.functions import when,col\n",
        "\n",
        "spark=SparkSession.builder.getOrCreate()\n",
        "\n",
        "data=[(\"Laptop\",800),(\"Mouse\",25),(\"Keyboard\",150),(\"Monitor\",300)]\n",
        "columns=[\"product\",\"price\"]\n",
        "\n",
        "df=spark.createDataFrame(data,columns)\n",
        "df.show()\n",
        "\n",
        "df_price_category= df.withColumn(\"price_category\",\n",
        "                                 when(col(\"price\") < 100,\"Low\")\n",
        "                                 .when((col(\"price\") >= 100) & (col(\"price\") < 500),\"Medium\")\n",
        "                                 .otherwise(\"High\")\n",
        "                                 )\n",
        "\n",
        "df_price_category.show()"
      ],
      "metadata": {
        "colab": {
          "base_uri": "https://localhost:8080/"
        },
        "id": "x1AUx22eu-g-",
        "outputId": "d928f558-30b4-4710-f4ce-8309dcb6b6a4"
      },
      "execution_count": 3,
      "outputs": [
        {
          "output_type": "stream",
          "name": "stdout",
          "text": [
            "+--------+-----+\n",
            "| product|price|\n",
            "+--------+-----+\n",
            "|  Laptop|  800|\n",
            "|   Mouse|   25|\n",
            "|Keyboard|  150|\n",
            "| Monitor|  300|\n",
            "+--------+-----+\n",
            "\n",
            "+--------+-----+--------------+\n",
            "| product|price|price_category|\n",
            "+--------+-----+--------------+\n",
            "|  Laptop|  800|          High|\n",
            "|   Mouse|   25|           Low|\n",
            "|Keyboard|  150|        Medium|\n",
            "| Monitor|  300|        Medium|\n",
            "+--------+-----+--------------+\n",
            "\n"
          ]
        }
      ]
    }
  ]
}